{
 "cells": [
  {
   "cell_type": "code",
   "execution_count": 1,
   "id": "a7492781",
   "metadata": {},
   "outputs": [],
   "source": [
    "#import awswrangler as wr\n",
    "import pandas as pd\n",
    "import s3fs\n",
    "import sagemaker"
   ]
  },
  {
   "cell_type": "code",
   "execution_count": 21,
   "id": "d458965e",
   "metadata": {},
   "outputs": [],
   "source": [
    "import boto3\n",
    "import json"
   ]
  },
  {
   "cell_type": "code",
   "execution_count": 3,
   "id": "b9cc90ec",
   "metadata": {},
   "outputs": [],
   "source": [
    "# Get SageMaker session & default S3 bucket\n",
    "sagemaker_session = sagemaker.Session()\n",
    "s3 = sagemaker_session.boto_session.resource(\"s3\")\n",
    "bucket = sagemaker_session.default_bucket()  \n"
   ]
  },
  {
   "cell_type": "code",
   "execution_count": 4,
   "id": "af764b5a",
   "metadata": {},
   "outputs": [],
   "source": [
    "dynamodb = boto3.resource('dynamodb')"
   ]
  },
  {
   "cell_type": "code",
   "execution_count": 19,
   "id": "1ece271f",
   "metadata": {},
   "outputs": [],
   "source": [
    "kinesis = boto3.client(\"kinesis\")"
   ]
  },
  {
   "cell_type": "code",
   "execution_count": 5,
   "id": "dad947ec",
   "metadata": {},
   "outputs": [],
   "source": [
    "table = dynamodb.Table('iserikov_suspicious_ips') "
   ]
  },
  {
   "cell_type": "code",
   "execution_count": 10,
   "id": "ba4ce86f",
   "metadata": {},
   "outputs": [
    {
     "data": {
      "text/plain": [
       "{'ResponseMetadata': {'RequestId': 'KEST611F534H4CME6629LAACOJVV4KQNSO5AEMVJF66Q9ASUAAJG',\n",
       "  'HTTPStatusCode': 200,\n",
       "  'HTTPHeaders': {'server': 'Server',\n",
       "   'date': 'Wed, 04 May 2022 08:31:17 GMT',\n",
       "   'content-type': 'application/x-amz-json-1.0',\n",
       "   'content-length': '2',\n",
       "   'connection': 'keep-alive',\n",
       "   'x-amzn-requestid': 'KEST611F534H4CME6629LAACOJVV4KQNSO5AEMVJF66Q9ASUAAJG',\n",
       "   'x-amz-crc32': '2745614147'},\n",
       "  'RetryAttempts': 0}}"
      ]
     },
     "execution_count": 10,
     "metadata": {},
     "output_type": "execute_result"
    }
   ],
   "source": [
    "table.put_item(Item={\n",
    "            'suspicious_ips': '127.0.0.2', 'name':'igor2'\n",
    "        })"
   ]
  },
  {
   "cell_type": "code",
   "execution_count": 12,
   "id": "2ed82da4",
   "metadata": {},
   "outputs": [],
   "source": [
    "is_suspicious = table.get_item(Key={'suspicious_ips': '127.0.0.2'})"
   ]
  },
  {
   "cell_type": "code",
   "execution_count": 14,
   "id": "f1032ef8",
   "metadata": {},
   "outputs": [
    {
     "data": {
      "text/plain": [
       "{'Item': {'name': 'igor2', 'suspicious_ips': '127.0.0.2'},\n",
       " 'ResponseMetadata': {'RequestId': 'TULCMJVAPQ3ST878V1U02139MJVV4KQNSO5AEMVJF66Q9ASUAAJG',\n",
       "  'HTTPStatusCode': 200,\n",
       "  'HTTPHeaders': {'server': 'Server',\n",
       "   'date': 'Wed, 04 May 2022 08:33:37 GMT',\n",
       "   'content-type': 'application/x-amz-json-1.0',\n",
       "   'content-length': '66',\n",
       "   'connection': 'keep-alive',\n",
       "   'x-amzn-requestid': 'TULCMJVAPQ3ST878V1U02139MJVV4KQNSO5AEMVJF66Q9ASUAAJG',\n",
       "   'x-amz-crc32': '1639987735'},\n",
       "  'RetryAttempts': 0}}"
      ]
     },
     "execution_count": 14,
     "metadata": {},
     "output_type": "execute_result"
    }
   ],
   "source": [
    "is_suspicious"
   ]
  },
  {
   "cell_type": "code",
   "execution_count": 15,
   "id": "b84199ea",
   "metadata": {},
   "outputs": [],
   "source": [
    "KINESIS_ITEM_STREAM = \"iserikov-bd-events\""
   ]
  },
  {
   "cell_type": "code",
   "execution_count": 37,
   "id": "cb325536",
   "metadata": {},
   "outputs": [],
   "source": [
    "kinesis_record = {\"device_id\": \"253896\", \"device_type\": \"mobile:ios\", \"item_id\": \"1038\",\n",
    " \"ts\": \"2021-07-16T13:52:08Z\", \"user_ip\": \"154.111.78.181\"}"
   ]
  },
  {
   "cell_type": "code",
   "execution_count": 38,
   "id": "16771ef7",
   "metadata": {},
   "outputs": [],
   "source": [
    "kin_records = [{\"PartitionKey\": 'sau', \"Data\": json.dumps(kinesis_record)}]"
   ]
  },
  {
   "cell_type": "code",
   "execution_count": 41,
   "id": "3b78b60a",
   "metadata": {},
   "outputs": [
    {
     "data": {
      "text/plain": [
       "{'FailedRecordCount': 0,\n",
       " 'Records': [{'SequenceNumber': '49629220316393340472969121358268099957186839250351423490',\n",
       "   'ShardId': 'shardId-000000000000'}],\n",
       " 'ResponseMetadata': {'RequestId': 'd338264f-bf82-5c5c-89d5-fd0765f60de8',\n",
       "  'HTTPStatusCode': 200,\n",
       "  'HTTPHeaders': {'x-amzn-requestid': 'd338264f-bf82-5c5c-89d5-fd0765f60de8',\n",
       "   'x-amz-id-2': 'GG/eQhYz1/A2x4xI/XmWwKukqMgSyR3nvpEi4oVHxQ3cwdJ5cUDiGA8FcH3IlNy4PsJVTw5zIdmpY4484SOyBe5ksUOMVNB+',\n",
       "   'date': 'Thu, 05 May 2022 14:02:48 GMT',\n",
       "   'content-type': 'application/x-amz-json-1.1',\n",
       "   'content-length': '146'},\n",
       "  'RetryAttempts': 0}}"
      ]
     },
     "execution_count": 41,
     "metadata": {},
     "output_type": "execute_result"
    }
   ],
   "source": [
    "kinesis.put_records(StreamName=KINESIS_ITEM_STREAM, Records=kin_records)"
   ]
  },
  {
   "cell_type": "code",
   "execution_count": 53,
   "id": "582c0fad",
   "metadata": {},
   "outputs": [],
   "source": [
    "import base64"
   ]
  },
  {
   "cell_type": "code",
   "execution_count": 54,
   "id": "c6f74b5c",
   "metadata": {},
   "outputs": [],
   "source": [
    "# Sample event from Kinesis SQl Destination Stream\n",
    "kinesis_dest_stream={'invocationId': '8a237820-cd14-40fd-b6ab-2b6728d29003', 'applicationArn': 'arn:aws:kinesisanalytics:us-east-1:571632058847:application/iserikov-bd-sql-app', 'records': [{'recordId': 'e136c416-a6a4-49b1-a2d5-3d7987a476a9', 'lambdaDeliveryRecordMetadata': {'retryHint': 0}, 'data': 'eyJpdGVtX2lkIjoxMDM4LCJpdGVtc19jb3VudCI6MX0='}, {'recordId': '010e26f8-a70f-49bb-9422-7c1fcbeaab84', 'lambdaDeliveryRecordMetadata': {'retryHint': 0}, 'data': 'eyJpdGVtX2lkIjoxMDM4LCJpdGVtc19jb3VudCI6Mn0='}]}"
   ]
  },
  {
   "cell_type": "code",
   "execution_count": null,
   "id": "d6984c92",
   "metadata": {},
   "outputs": [],
   "source": []
  },
  {
   "cell_type": "code",
   "execution_count": 58,
   "id": "eed5147f",
   "metadata": {},
   "outputs": [
    {
     "name": "stdout",
     "output_type": "stream",
     "text": [
      "eyJpdGVtX2lkIjoxMDM4LCJpdGVtc19jb3VudCI6MX0=\n",
      "{'item_id': 1038, 'items_count': 1}\n",
      "eyJpdGVtX2lkIjoxMDM4LCJpdGVtc19jb3VudCI6Mn0=\n",
      "{'item_id': 1038, 'items_count': 2}\n",
      "SNS->\n"
     ]
    }
   ],
   "source": [
    "for record in kinesis_dest_stream['records']:\n",
    "    print(record['data'])\n",
    "    payload=base64.b64decode(record[\"data\"])\n",
    "    record = json.loads(payload)\n",
    "    print (record)\n",
    "    if record['items_count']>1:\n",
    "        print ('SNS->')"
   ]
  },
  {
   "cell_type": "code",
   "execution_count": 59,
   "id": "6c51d139",
   "metadata": {},
   "outputs": [
    {
     "data": {
      "text/plain": [
       "\"try:\\n        client.publish(TopicArn=topic_arn, Message='Investigate sudden surge in orders', Subject='Cadabra Order Rate Alarm')\\n        print('Successfully delivered alarm message')\\n    except Exception:\\n        print('Delivery failure')\""
      ]
     },
     "execution_count": 59,
     "metadata": {},
     "output_type": "execute_result"
    }
   ],
   "source": [
    "'''try:\n",
    "        client.publish(TopicArn=topic_arn, Message='Investigate sudden surge in orders', Subject='Cadabra Order Rate Alarm')\n",
    "        print('Successfully delivered alarm message')\n",
    "    except Exception:\n",
    "        print('Delivery failure')'''"
   ]
  },
  {
   "cell_type": "markdown",
   "id": "4d6acf33",
   "metadata": {},
   "source": [
    "## Write to SNS"
   ]
  },
  {
   "cell_type": "code",
   "execution_count": 65,
   "id": "60149f84",
   "metadata": {},
   "outputs": [
    {
     "name": "stdout",
     "output_type": "stream",
     "text": [
      "Successfully delivered alarm message\n"
     ]
    }
   ],
   "source": [
    "topic_arn = 'arn:aws:sns:us-east-1:571632058847:iserikov-bd-alert'\n",
    "client = boto3.client('sns')\n",
    "try:\n",
    "    message = str(record['item_id']) + ' has too many views'\n",
    "    client.publish(TopicArn=topic_arn, Message='Investigate sudden surge in orders', Subject='Rate Alarm')\n",
    "    print('Successfully delivered alarm message')\n",
    "except Exception as e:\n",
    "    print('error: '+e)"
   ]
  },
  {
   "cell_type": "markdown",
   "id": "62108c3a",
   "metadata": {},
   "source": [
    "## Read from MySQl"
   ]
  },
  {
   "cell_type": "code",
   "execution_count": 70,
   "id": "71d898a3",
   "metadata": {},
   "outputs": [],
   "source": [
    "import awswrangler as wr"
   ]
  },
  {
   "cell_type": "code",
   "execution_count": 72,
   "id": "1d4cb6e8",
   "metadata": {},
   "outputs": [],
   "source": [
    "#!pip install awswrangler"
   ]
  },
  {
   "cell_type": "code",
   "execution_count": 73,
   "id": "26c8c945",
   "metadata": {},
   "outputs": [
    {
     "data": {
      "text/plain": [
       "'2.10.0'"
      ]
     },
     "execution_count": 73,
     "metadata": {},
     "output_type": "execute_result"
    }
   ],
   "source": [
    "wr.__version__"
   ]
  },
  {
   "cell_type": "code",
   "execution_count": 74,
   "id": "b9e7c56b",
   "metadata": {},
   "outputs": [
    {
     "name": "stdout",
     "output_type": "stream",
     "text": [
      "           Database Description\n",
      "0  iserikov-glue-db            \n"
     ]
    }
   ],
   "source": [
    "databases = wr.catalog.databases()\n",
    "print(databases)"
   ]
  },
  {
   "cell_type": "code",
   "execution_count": 75,
   "id": "2aa21393",
   "metadata": {},
   "outputs": [],
   "source": [
    "con_mysql = wr.mysql.connect(\"iserikov-mysql-connection\")"
   ]
  },
  {
   "cell_type": "code",
   "execution_count": 76,
   "id": "0433afda",
   "metadata": {},
   "outputs": [
    {
     "data": {
      "text/html": [
       "<div>\n",
       "<style scoped>\n",
       "    .dataframe tbody tr th:only-of-type {\n",
       "        vertical-align: middle;\n",
       "    }\n",
       "\n",
       "    .dataframe tbody tr th {\n",
       "        vertical-align: top;\n",
       "    }\n",
       "\n",
       "    .dataframe thead th {\n",
       "        text-align: right;\n",
       "    }\n",
       "</style>\n",
       "<table border=\"1\" class=\"dataframe\">\n",
       "  <thead>\n",
       "    <tr style=\"text-align: right;\">\n",
       "      <th></th>\n",
       "      <th>item_id</th>\n",
       "      <th>description</th>\n",
       "    </tr>\n",
       "  </thead>\n",
       "  <tbody>\n",
       "    <tr>\n",
       "      <th>0</th>\n",
       "      <td>1038</td>\n",
       "      <td>TV</td>\n",
       "    </tr>\n",
       "    <tr>\n",
       "      <th>1</th>\n",
       "      <td>1039</td>\n",
       "      <td>Phone</td>\n",
       "    </tr>\n",
       "  </tbody>\n",
       "</table>\n",
       "</div>"
      ],
      "text/plain": [
       "   item_id description\n",
       "0     1038          TV\n",
       "1     1039       Phone"
      ]
     },
     "execution_count": 76,
     "metadata": {},
     "output_type": "execute_result"
    }
   ],
   "source": [
    "wr.mysql.read_sql_query(\"SELECT * FROM tickit.desc_items_desc_csv\", con=con_mysql)"
   ]
  },
  {
   "cell_type": "code",
   "execution_count": null,
   "id": "83bcbba4",
   "metadata": {},
   "outputs": [],
   "source": []
  }
 ],
 "metadata": {
  "kernelspec": {
   "display_name": "conda_pytorch_p38",
   "language": "python",
   "name": "conda_pytorch_p38"
  },
  "language_info": {
   "codemirror_mode": {
    "name": "ipython",
    "version": 3
   },
   "file_extension": ".py",
   "mimetype": "text/x-python",
   "name": "python",
   "nbconvert_exporter": "python",
   "pygments_lexer": "ipython3",
   "version": "3.8.12"
  }
 },
 "nbformat": 4,
 "nbformat_minor": 5
}
